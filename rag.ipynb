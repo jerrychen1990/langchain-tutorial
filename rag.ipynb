{
 "cells": [
  {
   "cell_type": "markdown",
   "metadata": {},
   "source": [
    "### 知识库增强问答"
   ]
  },
  {
   "cell_type": "code",
   "execution_count": 10,
   "metadata": {},
   "outputs": [],
   "source": [
    "from zhipu import ChatGLM\n",
    "import os\n",
    "llm = ChatGLM(api_key=os.environ[\"ZHIPU_API_KEY\"], version =\"chatglm_turbo\")\n"
   ]
  },
  {
   "cell_type": "code",
   "execution_count": 11,
   "metadata": {},
   "outputs": [
    {
     "data": {
      "text/plain": [
       "'你好👋！我是人工智能助手智谱清言，可以叫我小智🤖，很高兴见到你，欢迎问我任何问题。'"
      ]
     },
     "execution_count": 11,
     "metadata": {},
     "output_type": "execute_result"
    }
   ],
   "source": [
    "llm.invoke(\"你好\")"
   ]
  },
  {
   "cell_type": "markdown",
   "metadata": {},
   "source": [
    "### 加载&切分文档"
   ]
  },
  {
   "cell_type": "code",
   "execution_count": 12,
   "metadata": {},
   "outputs": [
    {
     "data": {
      "text/plain": [
       "224"
      ]
     },
     "execution_count": 12,
     "metadata": {},
     "output_type": "execute_result"
    }
   ],
   "source": [
    "from langchain.document_loaders import TextLoader\n",
    "from langchain.text_splitter import RecursiveCharacterTextSplitter\n",
    "\n",
    "splitter = RecursiveCharacterTextSplitter(chunk_size=50, chunk_overlap=20)\n",
    "\n",
    "docs = [\"docs/langchain_intro.txt\", \"docs/porsche_intro.txt\"]\n",
    "chunks = []\n",
    "for doc in docs:\n",
    "    chunks.extend(TextLoader(doc).load_and_split(splitter))\n",
    "    \n",
    "len(chunks)\n",
    "    \n",
    "\n"
   ]
  },
  {
   "cell_type": "markdown",
   "metadata": {},
   "source": [
    "### 构建向量索引"
   ]
  },
  {
   "cell_type": "code",
   "execution_count": 13,
   "metadata": {},
   "outputs": [
    {
     "data": {
      "text/plain": [
       "1024"
      ]
     },
     "execution_count": 13,
     "metadata": {},
     "output_type": "execute_result"
    },
    {
     "data": {
      "text/plain": [
       "[0.0023421330896372045,\n",
       " 0.03616516046273811,\n",
       " 0.023525986850004982,\n",
       " -0.044469883387348565]"
      ]
     },
     "execution_count": 13,
     "metadata": {},
     "output_type": "execute_result"
    }
   ],
   "source": [
    "from zhipu import ZhipuEmbedding\n",
    "import os\n",
    "embedding = ZhipuEmbedding(api_key=os.environ[\"ZHIPU_API_KEY\"])\n",
    "embd = embedding.embed_query(chunks[-1].page_content)\n",
    "len(embd)\n",
    "embd[:4]\n",
    "\n"
   ]
  },
  {
   "cell_type": "code",
   "execution_count": 14,
   "metadata": {},
   "outputs": [
    {
     "name": "stderr",
     "output_type": "stream",
     "text": [
      "2023-12-21 11:45:23 [INFO][zhipu.py:110]:embedding 224 with self.batch_size=16\n"
     ]
    },
    {
     "name": "stderr",
     "output_type": "stream",
     "text": [
      "100%|██████████| 224/224 [00:14<00:00, 15.37it/s]\n"
     ]
    },
    {
     "data": {
      "text/plain": [
       "{'embedding_function': <zhipu.ZhipuEmbedding at 0x13fc1d720>,\n",
       " 'index': <faiss.swigfaiss.IndexFlatL2; proxy of <Swig Object of type 'faiss::IndexFlatL2 *' at 0x13fbe5f80> >,\n",
       " 'docstore': <langchain_community.docstore.in_memory.InMemoryDocstore at 0x13fbe65f0>,\n",
       " 'index_to_docstore_id': {0: '5d50c110-d9db-4641-884d-ca7fae2dd5ec',\n",
       "  1: 'c5f612a0-96ae-4bf4-b022-298f2ec4bd37',\n",
       "  2: '80622768-ee33-4b8b-8d74-76e3450bedeb',\n",
       "  3: '2a12866e-a2ea-41f6-a322-b89ad04d2129',\n",
       "  4: '553a5ca9-d30d-4669-a290-a44320a5ebd7',\n",
       "  5: '7a1986d8-5502-470c-932a-f407063ec980',\n",
       "  6: '13cd02ea-fe4e-439e-98b9-d85289c89488',\n",
       "  7: '5bdc6b2c-71b6-421b-8312-7c5f04d2d494',\n",
       "  8: '2a0e055e-6bbb-405d-b356-fb889dc462a1',\n",
       "  9: '4db8c87e-74f9-4d3b-bd37-e5432249f492',\n",
       "  10: '814c946e-0b06-49c4-a53f-bd5a2e57ecae',\n",
       "  11: 'b9640189-c1f4-4147-9b8d-2589a6064c84',\n",
       "  12: 'a9c9ec8f-4d07-465a-8847-2411916dc642',\n",
       "  13: 'c1764f90-47a7-46d1-a462-15e936e627fd',\n",
       "  14: 'd30f42d1-a2ac-4080-ad67-0d7e9bf56af7',\n",
       "  15: 'ed9dd825-dcdc-441a-89ff-66b3b90057a6',\n",
       "  16: 'dcdf8289-d2bc-45dc-a1f0-96d345c760c1',\n",
       "  17: '2d8d28eb-f09a-4300-bdef-02ca73b2a657',\n",
       "  18: '29e793f4-6355-4f5f-8791-e59503a5c659',\n",
       "  19: '99dad7ac-95e8-467e-b9e8-8045497163ef',\n",
       "  20: 'dee6f05e-259f-49ba-95ae-4053dad66644',\n",
       "  21: 'cdc48357-5f60-4141-829c-6665e3e5885b',\n",
       "  22: '91a164e1-9d9d-4772-831a-55083a8f78c3',\n",
       "  23: '46388bb1-2647-4329-929c-4ec33452b436',\n",
       "  24: '6259b907-6c69-45f6-a336-d971e1a2a2c8',\n",
       "  25: 'fdf2ff06-18dd-44b2-93cb-7d6d29fd459f',\n",
       "  26: 'e1104b8d-b325-4e8a-bd59-74f47a7e554b',\n",
       "  27: '5a3bc3bc-fb33-40c6-b3e9-b31828b7cbcb',\n",
       "  28: '53305029-6cc3-4670-b682-9e2f6560cd33',\n",
       "  29: 'f3256c38-1c75-4062-8942-b18e8c0f2b0f',\n",
       "  30: 'c4a6cafa-24c7-4a47-8d2f-ac3a015d05f6',\n",
       "  31: '627358e8-1d73-4d6d-99a3-c8d3cf86de4f',\n",
       "  32: 'c040fb3d-0e16-41b6-a1f6-2013a095058f',\n",
       "  33: '7dec3ec7-0e21-47c5-bf3e-fa91278d499c',\n",
       "  34: '6d9375cb-415f-489d-9e07-0b42c7dd0bfd',\n",
       "  35: '330aa1e5-a275-4e60-8f4b-3c194b82e334',\n",
       "  36: 'dc07602f-c6c5-492d-9b4e-1ca8e6c852c1',\n",
       "  37: '2af38448-9ae9-4dbe-a428-aac4cedf43d3',\n",
       "  38: 'ec233298-c9ff-4963-9680-a841702a43dd',\n",
       "  39: '8102543c-b312-4be8-8043-cfa866120be8',\n",
       "  40: '30632864-92e7-4feb-ba3b-850b86b44f3b',\n",
       "  41: '75a4039c-2c99-4bed-9791-ac116639ab41',\n",
       "  42: '6f528208-e760-4988-8bb4-2219d606c32c',\n",
       "  43: '8d7d3693-a76b-4a3d-8ba0-80baa6de0726',\n",
       "  44: '7cb31851-3625-4bb7-ba55-f047eaf402b9',\n",
       "  45: '3be26797-49eb-4c9c-9636-58f4baa83019',\n",
       "  46: 'b0b23317-a81c-46af-8f38-2c1d49a80334',\n",
       "  47: '9de2f145-c36e-4d7b-8147-4bb8881b8bc8',\n",
       "  48: '93cd3d15-9c6f-4e72-a414-8e42747c8748',\n",
       "  49: '3cbaebbd-9bc3-488c-bcf2-9ced174e35bb',\n",
       "  50: '49707752-4e51-4a11-b2e4-d81832800b5d',\n",
       "  51: 'ae7c409f-b0bf-4379-8e84-3a895a46f5f4',\n",
       "  52: 'b68fa0fc-46dc-4fa1-811a-74f934f2f8b9',\n",
       "  53: '86afa79a-6c66-49d7-a064-251e799eb1cd',\n",
       "  54: '94694e56-f020-4cb8-8aa6-d0efdaed9782',\n",
       "  55: 'afd95845-d6b2-4b89-ba9d-58db0e75dcca',\n",
       "  56: '4db80a9d-0a11-473b-9793-7539f66d328e',\n",
       "  57: 'ac42ac90-91a1-49be-9a54-fe697f44990d',\n",
       "  58: 'd4bfdb79-02fc-4e8b-8945-1b30a7789b8e',\n",
       "  59: '2de0395d-78a9-4033-a2d5-3d6b6d3bc3f7',\n",
       "  60: '95b5280b-6f2c-4c06-a5bb-fb8ae8bc4a4d',\n",
       "  61: 'cc88b2fc-4a5c-4274-8786-bf03e123d353',\n",
       "  62: '2dd6f571-cc87-49d9-a32e-37b6dc59193c',\n",
       "  63: '3b697c6e-8b02-49d7-930c-7000f277830f',\n",
       "  64: 'dca25cf8-bf4a-460b-bbb8-b1bfadccddf4',\n",
       "  65: '0bd47b80-c0ad-4cd6-9ce4-df25d3d3a2b3',\n",
       "  66: '4be5b888-3ff4-4778-ae6d-87017d38e211',\n",
       "  67: 'e45d4177-2951-4dbe-a731-c4e9712d19c5',\n",
       "  68: 'd2c02eee-9363-4063-9745-c87cac13fed2',\n",
       "  69: '29b72706-e790-42d3-9eca-59e4fe0de6f5',\n",
       "  70: 'bef0a325-dfdf-4087-87e7-f76a43d1b5cc',\n",
       "  71: '79e67b94-aa70-4790-adbf-7b8744669e9e',\n",
       "  72: 'd2702ea4-7db7-4d9e-a20c-a2283657a45f',\n",
       "  73: '11ed9e01-c9d0-439d-8cf1-484162c877d4',\n",
       "  74: '5d3edc64-a663-4872-b622-77f1415866a0',\n",
       "  75: '4e09166a-9967-41ba-8345-b8f3443bc2d4',\n",
       "  76: '430ef577-e0c5-4213-a7f7-433ea313b49e',\n",
       "  77: '3fc868e8-3d0e-4be6-b41d-ec92f22cb8cb',\n",
       "  78: '2234950a-6c9f-4373-b773-9e80f2497bac',\n",
       "  79: '2d691693-e706-42d8-9735-f6a98d25e52d',\n",
       "  80: '68c5d477-11cc-4bb9-87cd-2643a6b66b07',\n",
       "  81: 'f73ca8a5-7bf2-486b-85c6-8f5727c031a9',\n",
       "  82: '25717a51-8f46-4188-834d-490c6e7ee5e2',\n",
       "  83: 'a9bb9444-d55f-498b-ad8d-573f35c4ca16',\n",
       "  84: '8840a411-a730-4b20-aac6-02b1228d3ff8',\n",
       "  85: '923f1460-6b05-4a9b-9f95-e151ee6d481a',\n",
       "  86: '4cd37791-9da6-4e1b-8504-3399ddc291d8',\n",
       "  87: '2f569186-35cc-4274-b513-5e2ae9b3e558',\n",
       "  88: '0fcfdc6a-a77d-47a8-b280-f7fbecfc907d',\n",
       "  89: '3f071c08-0971-44ef-915e-45419a478dce',\n",
       "  90: '4e8249e8-cc99-41d4-8b11-6b147a74b232',\n",
       "  91: '23249fc2-95ad-4708-afe5-e11b0777a4dc',\n",
       "  92: '6f60f3a0-4948-4ff1-9ff0-a16b650a3c2b',\n",
       "  93: 'fa4e040d-7017-4133-9d2d-042a4e02af3a',\n",
       "  94: '69b1c46a-9eef-4358-a668-ba57a6740c96',\n",
       "  95: '38fe0cff-e757-4812-9781-717402972163',\n",
       "  96: 'aebc08ec-3ef0-412e-b2ce-309a9da43d14',\n",
       "  97: '1bfbda81-0af9-4c4f-bfe4-78a602764be1',\n",
       "  98: '4d962235-a38d-4ba3-acc3-297ee5abbf82',\n",
       "  99: '788a3546-5f02-4f52-b587-264f6812226d',\n",
       "  100: '0a079e90-7280-41c8-8770-7555075c1e13',\n",
       "  101: '360fff12-d7c4-4145-9e96-ce89550ab55a',\n",
       "  102: 'd5da05cb-bccb-432a-9a10-f5554c2cfbb9',\n",
       "  103: 'f2af7974-5fc8-48ec-8551-8b91c9280974',\n",
       "  104: 'ad89b17b-655d-4246-bb2c-e5021a5449a0',\n",
       "  105: '96d3488f-2b7a-4e6f-9fdc-c577026ca14b',\n",
       "  106: 'b09c24fd-93d3-4ca3-bd0c-31f379982289',\n",
       "  107: '680209fb-4933-42f7-8e21-e6cb577401ef',\n",
       "  108: '6b6d3c02-ead4-4f2d-8d26-a510440ee580',\n",
       "  109: 'b676f45b-78d4-4d44-bd8c-7c9a9717d3f4',\n",
       "  110: 'dab9f39d-b70e-4588-9329-774495b68ec6',\n",
       "  111: '4188bd65-ecc2-4a27-ab94-7d5443f6ebe7',\n",
       "  112: '1f5236d1-7be1-4545-9ac8-cea9d9da13b7',\n",
       "  113: '24e83740-3f5c-419d-9587-72b57cb21237',\n",
       "  114: '8d6102d1-338a-420f-9a77-5deb179aad7e',\n",
       "  115: 'e3c2e23a-e7ef-403a-979b-c05e5bef02e5',\n",
       "  116: '4918ccc7-42f9-4c96-92e2-1a61f5577b93',\n",
       "  117: 'd1de5ad3-b879-472b-bdc0-b84e6b2885e1',\n",
       "  118: '252f536e-347a-47b2-96eb-053f2af055f9',\n",
       "  119: 'd56f2d19-5b78-4ba6-85cf-bcbd5eec04d4',\n",
       "  120: '8368b00d-f1e5-4f32-8616-ebaacef9491e',\n",
       "  121: '9124320b-e9e9-4aea-af8f-42d39a7e7317',\n",
       "  122: 'd4e91453-56b6-472a-9719-16c7254823db',\n",
       "  123: 'e1f981e8-4fc2-4a5e-8a38-6489e028050d',\n",
       "  124: 'd02b2dd0-f723-4494-856e-75fdea359b02',\n",
       "  125: '53f8c3d3-ef28-4831-a719-53dbee8d24b4',\n",
       "  126: 'adb4f5e8-7ea7-40b2-8458-644df6fcee36',\n",
       "  127: '6077df3b-717b-404d-8afd-052ceff859a5',\n",
       "  128: 'ad784697-a003-4b11-abee-4346b0b629e9',\n",
       "  129: '4a10a9d2-8e3d-46c0-9a7f-fb0c7765ae3e',\n",
       "  130: 'a984a1c6-2533-43a0-b95e-153c12b92257',\n",
       "  131: '8cc2726f-21e4-4252-b8c2-3b2a52eee8a2',\n",
       "  132: '9a74adf7-5296-43d8-84c1-c6111b503a49',\n",
       "  133: 'b5cea287-2a91-40d7-89bf-d1ef18e5fb21',\n",
       "  134: '8015cd0b-d338-43e3-8afa-ac49e7521759',\n",
       "  135: '074c490d-218f-4c84-a817-8aee79e3af9d',\n",
       "  136: 'e19dfefc-df8b-41e8-91c5-cf946b5cabed',\n",
       "  137: '2efd75f5-b6f6-498a-b2bc-78259b5e4fa7',\n",
       "  138: '692d5037-9d9a-4edc-ad51-aa45bdd4c8bd',\n",
       "  139: 'c87de3bf-37d5-45dc-bfba-3ca04a118271',\n",
       "  140: '5183039b-82e7-42e8-aa3c-9d95fcb134df',\n",
       "  141: 'feb085f7-8ce9-4292-8f82-3aaf7dc7da81',\n",
       "  142: 'ebee6339-ee2c-42be-9046-78242db575a1',\n",
       "  143: 'd49b37bf-0a0a-4a3b-836e-4e30d4c55862',\n",
       "  144: '0f5163c6-e59f-49b1-8b5c-e2c030134cab',\n",
       "  145: '8d797400-b62d-4c6f-8719-6be1a685bcb0',\n",
       "  146: 'cc5a534e-8fa9-4864-a1ac-586a435bcf9c',\n",
       "  147: '881682a1-2cbb-440a-970c-62c79154b0eb',\n",
       "  148: '84cb700f-e979-4697-9a0c-348e1abbe803',\n",
       "  149: '0a52889e-a074-4d3b-bd51-bf1029cc5cfc',\n",
       "  150: 'e742c4d0-387d-4a04-a4a0-a2f68518d823',\n",
       "  151: 'da104396-24e6-49c8-b9e5-f8cc536fd633',\n",
       "  152: '90edcb1d-e509-4aae-aa7a-750ddd19fd61',\n",
       "  153: '09198244-e595-45db-b7c1-aca30e6bf42d',\n",
       "  154: 'd0cae949-4a5e-4a33-87a1-9bd7f051c9c0',\n",
       "  155: 'be3eeb1e-9c5c-4b3f-93b4-5b937ea26f3b',\n",
       "  156: 'd0e2a023-0766-44fa-8173-d3c989d56c1c',\n",
       "  157: '70ad3868-9660-4349-8c06-57b85f8d7ba6',\n",
       "  158: '94cc2963-96e7-4e9a-922e-01b08e86f06d',\n",
       "  159: 'd04f105f-b8c7-4b2f-ac61-b36625b11334',\n",
       "  160: 'b6805e1e-50fb-4609-b5a9-8e622b06d893',\n",
       "  161: '60ec9574-51d3-45b4-9c75-368636b3b864',\n",
       "  162: 'a3a2a118-fe75-493e-a1f5-6d985dd8476a',\n",
       "  163: '1aed03ec-79df-47dc-8eeb-8b13604e21d9',\n",
       "  164: '7fd98419-fda3-4949-bd06-5f83cbe1bdce',\n",
       "  165: '132fc3a5-89ac-4f2c-b4ed-c04a935ed0ae',\n",
       "  166: '1f7b1f52-592d-4255-b92d-ec495d55c0ec',\n",
       "  167: '4d5dade2-6df5-4fe3-93b5-2c75986bda45',\n",
       "  168: 'cd06d797-ad40-4d8e-a707-9682f41d6572',\n",
       "  169: '47d35461-546d-4dbc-ac7a-442992d31b33',\n",
       "  170: 'e405b55d-36ec-45b8-b305-dfb60290842e',\n",
       "  171: 'f7fbe135-54a4-448e-954f-dc28a4e549ac',\n",
       "  172: 'a7824989-29fa-4aee-bd23-6ac24ccc01d8',\n",
       "  173: 'cb6a7bad-5c57-4e59-894f-5afa599be3d5',\n",
       "  174: '0ace777d-3817-4bb6-9c42-2a8578c4b860',\n",
       "  175: '8189c2a7-d4e2-48e0-8b4a-60a01aedcbf8',\n",
       "  176: '1fd67a5c-f4ad-4b8a-9ea9-1561a51a7a16',\n",
       "  177: 'de117ad5-3a8c-49b7-aa82-9a17a174b711',\n",
       "  178: '70f44ef4-dfff-472d-81d7-f845568de8af',\n",
       "  179: '9a8bc174-87d4-4f0c-92df-b1efb623904f',\n",
       "  180: '84179405-710b-4e01-a7e4-8de6278ad2b8',\n",
       "  181: 'aac45475-c3b1-4adb-90f6-8a789b0c22ee',\n",
       "  182: '35b7f220-67e3-4841-9f1d-b124588cd291',\n",
       "  183: 'eed31318-1e82-4daa-a621-7af375148081',\n",
       "  184: '90393c1c-21e4-452f-8eb5-010fe4922ba8',\n",
       "  185: 'fa8cf426-adbb-4adb-940a-b54245000e0a',\n",
       "  186: 'ac9f06d4-d502-4385-95ea-dd1f3d2b2749',\n",
       "  187: '9680fb36-2b18-4f24-8328-b00ae4c2b33a',\n",
       "  188: 'eccd6664-3b8d-426f-b797-59e7d0832903',\n",
       "  189: '6b388e6c-164e-4132-af6b-d881b4b62ac5',\n",
       "  190: '4ef58a3f-9c2e-4d1b-ae77-e55a9d9421f3',\n",
       "  191: 'f8d3f201-e27c-47be-99ad-35ea9e6c83a7',\n",
       "  192: '7ccdb6a6-0293-4d5d-a868-6c88738907c0',\n",
       "  193: 'eccf9730-0fac-4249-bd0a-bdbcf77b8b68',\n",
       "  194: '851dfdf0-6f05-4ef7-8097-1eef8d311d38',\n",
       "  195: '5c8d5cb1-8164-4fd7-9a3b-7c7bb70752bf',\n",
       "  196: 'b574ae95-19af-471e-b9be-74e5029d0bb1',\n",
       "  197: '3dfa3047-638d-488c-bddd-355cfa797377',\n",
       "  198: '4e3630d3-06a5-4b62-8aec-e9cdd0e76d71',\n",
       "  199: 'da2579f2-2615-4400-a374-cb2ed8b22bef',\n",
       "  200: 'e5bb35ca-b749-4ba8-b5e5-e93ece371752',\n",
       "  201: 'b6f094fa-d85c-44a5-bcb2-259f903c0f4f',\n",
       "  202: '55eefe99-1cb1-40e2-aff7-085f4564a260',\n",
       "  203: '368ed153-204a-42f3-b399-95eaacc182d1',\n",
       "  204: '44e26ff4-86a0-4527-bd4e-64b33da9f108',\n",
       "  205: '1009721c-af57-4cd6-b23f-c48a13c7cb8f',\n",
       "  206: '60941588-372e-4e58-9443-89364cd0de98',\n",
       "  207: '39d35a97-e27a-4818-b3f9-ef94f91a5e69',\n",
       "  208: 'd64dbb8f-8120-42d5-966c-0b8b829760ac',\n",
       "  209: '4952459a-6342-436c-b0ab-d380aa71d4c1',\n",
       "  210: '7cd48954-baae-4584-8c9e-226322a924b6',\n",
       "  211: 'c8e7ae33-c422-442d-b2ce-788052347aa2',\n",
       "  212: 'b2d84bf9-013a-4e00-b346-b176b90461ac',\n",
       "  213: '2cdf9c88-2a4a-403f-8ec0-374874b2dbc1',\n",
       "  214: '2809123f-3444-4aae-a5f3-8e282a9b8c02',\n",
       "  215: '28a74c54-3f58-4649-978b-e649ed702db4',\n",
       "  216: 'd17c18b4-014b-4997-b964-926d4ca28512',\n",
       "  217: '90bfa3d1-b9b8-4e4c-827b-eda6d6a0aa27',\n",
       "  218: '8045efc4-3dae-49a3-9e02-7348333a0868',\n",
       "  219: '1ec82b11-6b81-47aa-a6bd-4f2ea871978e',\n",
       "  220: 'e7aa6de9-1e87-42dc-8ac4-0dad872e93ee',\n",
       "  221: 'd823dab8-17a1-4c96-a070-f63d1128a1cd',\n",
       "  222: 'a7b3b468-cb36-48e2-b859-3b1e6472fb7e',\n",
       "  223: '7cfae5c0-a1c7-4de5-aecc-4c01c5d8d502'},\n",
       " 'distance_strategy': <DistanceStrategy.EUCLIDEAN_DISTANCE: 'EUCLIDEAN_DISTANCE'>,\n",
       " 'override_relevance_score_fn': None,\n",
       " '_normalize_L2': False}"
      ]
     },
     "execution_count": 14,
     "metadata": {},
     "output_type": "execute_result"
    }
   ],
   "source": [
    "from langchain.vectorstores import FAISS\n",
    "db =FAISS.from_documents(chunks, embedding=embedding)\n",
    "db.__dict__"
   ]
  },
  {
   "cell_type": "markdown",
   "metadata": {},
   "source": [
    "### 知识问答"
   ]
  },
  {
   "cell_type": "code",
   "execution_count": 15,
   "metadata": {},
   "outputs": [],
   "source": [
    "from langchain.prompts import PromptTemplate\n",
    "prompt = PromptTemplate.from_template(\"请根据[相关信息]{context}回答我的问题，如果[相关信息]没有相关的内容，可以不回答，不要编造。问题是:{question}\")"
   ]
  },
  {
   "cell_type": "code",
   "execution_count": 16,
   "metadata": {},
   "outputs": [],
   "source": [
    "from langchain.chains import RetrievalQA\n",
    "retriever = db.as_retriever()\n",
    "\n",
    "qa = RetrievalQA.from_chain_type(llm=llm, chain_type=\"stuff\",\n",
    "                                 chain_type_kwargs={\"prompt\": prompt},\n",
    "                                 retriever=retriever, return_source_documents=True)"
   ]
  },
  {
   "cell_type": "code",
   "execution_count": 17,
   "metadata": {},
   "outputs": [],
   "source": [
    "resp = qa.invoke(\"保时捷和智谱有什么关系？\")"
   ]
  },
  {
   "cell_type": "code",
   "execution_count": 18,
   "metadata": {},
   "outputs": [
    {
     "name": "stdout",
     "output_type": "stream",
     "text": [
      "根据您提供的参考信息，保时捷和智谱AI的关系并未直接提及。然而，我们可以从保时捷在人工智能和科技领域的投资和合作方面进行一些推测。\\n\\n保时捷在近年来一直关注新能源汽车、智能网联汽车以及相关技术的发展。保时捷投资了多家科技公司，如电享科技，致力于推动车网互动、光储充一体化等能源数字化领域的发展。此外，保时捷还投资了名为Sensigo的公司，该公司利用人工智能技术升级汽车维修，从诊断到预测问题，以提高客户满意度和降低维修成本。\\n\\n智谱AI是一家专注于人工智能领域的公司，其主要业务涉及AI技术研发、应用和解决方案。虽然保时捷和智谱AI之间没有直接的投资关系，但两家公司在人工智能和汽车领域有着共同兴趣和合作可能。\\n\\n综上所述，尽管保时捷和智谱AI之间的具体关系未见明确，但两家公司在人工智能、新能源和汽车科技领域有一定的合作空间。双方可能会在技术创新、智能网联汽车、新能源汽车等方面展开合作，共同推动汽车行业的可持续发展。\n"
     ]
    }
   ],
   "source": [
    "print(resp[\"result\"])"
   ]
  },
  {
   "cell_type": "code",
   "execution_count": 19,
   "metadata": {},
   "outputs": [
    {
     "name": "stdout",
     "output_type": "stream",
     "text": [
      "[Document(page_content='2023年12月21日，保时捷和智谱AI进行了友好的交流', metadata={'source': 'docs/porsche_intro.txt'}), Document(page_content='保时捷厂家虽然由专业经理人经营，但保时捷家族仍旧拥有制造厂的大部分股权。据统计，该家族所拥有的资产', metadata={'source': 'docs/porsche_intro.txt'}), Document(page_content='1972年\\n保时捷改制为股票上市公司，费利·保时捷担任监事会主席，成立保时捷研发中心。\\n1973年', metadata={'source': 'docs/porsche_intro.txt'}), Document(page_content='保时捷', metadata={'source': 'docs/porsche_intro.txt'})]\n"
     ]
    }
   ],
   "source": [
    "print(resp[\"source_documents\"])"
   ]
  }
 ],
 "metadata": {
  "kernelspec": {
   "display_name": "langchain",
   "language": "python",
   "name": "python3"
  },
  "language_info": {
   "codemirror_mode": {
    "name": "ipython",
    "version": 3
   },
   "file_extension": ".py",
   "mimetype": "text/x-python",
   "name": "python",
   "nbconvert_exporter": "python",
   "pygments_lexer": "ipython3",
   "version": "3.10.12"
  }
 },
 "nbformat": 4,
 "nbformat_minor": 2
}
